{
 "cells": [
  {
   "attachments": {},
   "cell_type": "markdown",
   "metadata": {},
   "source": [
    "Operações Morfológicas: Conjunto de operações que processam imagens com base em formas. Eles aplicam um elemento estruturante a uma imagem de entrada e geram uma imagem de saída.\n",
    "\n",
    "    -> Erosão:\n",
    "\n",
    "        - Corrói os limites do objeto em primeiro plano;\n",
    "\n",
    "        - Usado para diminuir recursos de uma imagem;\n",
    "\n",
    "        - Útil para remover pequenos ruídos brancos;\n",
    "\n",
    "        - Usado para separar dois objetos conectados;\n",
    "\n",
    "        - Como é feito:\n",
    "\n",
    "            1. Um kernel (uma matriz de tamanho ímpar (3,5,7)) é convolvido com a imagem;\n",
    "\n",
    "            2. Um pixel na imagem original (1 ou 0) será considerado 1 somente se todos os pixels sob o kernel forem 1, caso contrário, ele será erodido (reduzido a zero);\n",
    "\n",
    "            3. Assim, todos os pixels próximos ao limite serão descartados dependendo do tamanho do kernel;\n",
    "\n",
    "            4. Assim a espessura ou o tamanho do objeto em primeiro plano diminui ou simplesmente a região branca diminui na imagem.\n",
    "\n",
    "    -> Dilatação:\n",
    "\n",
    "        - Aumenta a área do objeto;\n",
    "\n",
    "        - Usado para acentuar características;\n",
    "\n",
    "        - Em casos como remoção de ruído, a erosão é seguida de dilatação. Porque a erosão remove os ruídos brancos, mas também encolhe o nosso objeto. Então nós dilatamos. Como o ruído acabou, eles não voltarão, mas a área do objeto aumenta;\n",
    "\n",
    "        - Também é útil para unir partes quebradas de um objeto;  \n",
    "\n",
    "        - Como é feito:\n",
    "\n",
    "            1. Um kernel (uma matriz de tamanho ímpar (3, 5, 7)) é convolvido com a imagem;\n",
    "\n",
    "            2. Um elemento de pixel na imagem original é '1' se pelo menos um pixel sob o kernel for '1';\n",
    "\n",
    "            3. Aumenta a região branca na imagem ou o tamanho do objeto em primeiro plano aumenta.             "
   ]
  },
  {
   "cell_type": "code",
   "execution_count": 2,
   "metadata": {},
   "outputs": [],
   "source": [
    "import cv2\n",
    "import numpy as np"
   ]
  },
  {
   "cell_type": "code",
   "execution_count": 3,
   "metadata": {},
   "outputs": [],
   "source": [
    "img = cv2.imread('teste.webp', 0)"
   ]
  },
  {
   "cell_type": "code",
   "execution_count": 4,
   "metadata": {},
   "outputs": [],
   "source": [
    "#pegando uma matriz de tamanho 5 como o kernel\n",
    "kernel = np.ones((5,5), np.uint8)"
   ]
  },
  {
   "cell_type": "code",
   "execution_count": 5,
   "metadata": {},
   "outputs": [],
   "source": [
    "#iterations determina o quanto você quer erodir/dilatar uma imagem.\n",
    "img_erosion = cv2.erode(img, kernel, iterations=1)\n",
    "img_dilation = cv2.dilate(img, kernel, iterations=1)"
   ]
  },
  {
   "cell_type": "code",
   "execution_count": 6,
   "metadata": {},
   "outputs": [
    {
     "name": "stderr",
     "output_type": "stream",
     "text": [
      "qt.qpa.plugin: Could not find the Qt platform plugin \"wayland\" in \"/home/kelly/.local/lib/python3.10/site-packages/cv2/qt/plugins\"\n"
     ]
    }
   ],
   "source": [
    "cv2.imshow('Input', img)\n",
    "cv2.imshow('Erosion', img_erosion)\n",
    "cv2.imshow('Dilation', img_dilation)\n",
    "\n",
    "cv2.waitKey(0)"
   ]
  }
 ],
 "metadata": {
  "kernelspec": {
   "display_name": "Python 3",
   "language": "python",
   "name": "python3"
  },
  "language_info": {
   "codemirror_mode": {
    "name": "ipython",
    "version": 3
   },
   "file_extension": ".py",
   "mimetype": "text/x-python",
   "name": "python",
   "nbconvert_exporter": "python",
   "pygments_lexer": "ipython3",
   "version": "3.10.12"
  },
  "orig_nbformat": 4
 },
 "nbformat": 4,
 "nbformat_minor": 2
}
