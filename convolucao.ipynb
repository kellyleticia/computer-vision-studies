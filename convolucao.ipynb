{
 "cells": [
  {
   "cell_type": "markdown",
   "metadata": {},
   "source": [
    "Convolução: \n",
    "\n",
    "    - operação matemática;\n",
    "    - utilizada em técnicas como detecção de bordas, reconhecimento de padrões, segmentação de objetos e etc;\n",
    "    - popular em redes neurais convolucionais (CNNs), que são usadas em tarefas de aprendizado profundo relacionadas a imagens e vídeos;\n",
    "    - basicamente, permite extrair informações significativas das imagens por meio da aplicação de filtros."
   ]
  },
  {
   "cell_type": "markdown",
   "metadata": {},
   "source": [
    "1. Filtro da média (Filtro de suavização):\n",
    "\n",
    "    - usado para suavizar uma imagem, reduzindo o ruído e as variações abruptas de intensidade;\n",
    "    - calcula a média dos valores dos pixels na região coberta pelo filtro e substitui o valor central pelo valor médio;\n",
    "    - eficaz para reduzir o ruído, mas também pode causar perda de detalhes finos na imagem. "
   ]
  },
  {
   "cell_type": "code",
   "execution_count": 1,
   "metadata": {},
   "outputs": [],
   "source": []
  },
  {
   "cell_type": "markdown",
   "metadata": {},
   "source": [
    "2. Filtro Gaussiano (Filtro de suavização):\n",
    "\n",
    "    - utiliza uma função de distribuição gaussiana para ponderar os pixels vizinhos;\n",
    "    - os pixels mais próximos ao centro do filtro têm um peso maior na média;\n",
    "    - eficaz para suavizar a imagem, preservando melhor os detalhes finos em comparação com o filtro da média."
   ]
  },
  {
   "cell_type": "code",
   "execution_count": null,
   "metadata": {},
   "outputs": [],
   "source": []
  },
  {
   "cell_type": "markdown",
   "metadata": {},
   "source": [
    "3. Filtro Laplaciano (Filtro de Realce de Bordas):\n",
    "\n",
    "    - o filtro laplaciano é usado para realçar bordas e características de alta frequência em uma imagem;\n",
    "    - destaca mudanças abruptas de intensidade, que são tipicamente associadas a bordas de objetos na imagem;\n",
    "    - realça as transições de intensidade positivas e negativas, indicando as bordas;\n",
    "    - amplifica o ruído da imagem."
   ]
  },
  {
   "cell_type": "code",
   "execution_count": null,
   "metadata": {},
   "outputs": [],
   "source": []
  }
 ],
 "metadata": {
  "interpreter": {
   "hash": "916dbcbb3f70747c44a77c7bcd40155683ae19c65e1c03b4aa3499c5328201f1"
  },
  "kernelspec": {
   "display_name": "Python 3.8.10 64-bit",
   "language": "python",
   "name": "python3"
  },
  "language_info": {
   "codemirror_mode": {
    "name": "ipython",
    "version": 3
   },
   "file_extension": ".py",
   "mimetype": "text/x-python",
   "name": "python",
   "nbconvert_exporter": "python",
   "pygments_lexer": "ipython3",
   "version": "3.8.10"
  },
  "orig_nbformat": 4
 },
 "nbformat": 4,
 "nbformat_minor": 2
}
