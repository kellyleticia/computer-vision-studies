{
 "cells": [
  {
   "cell_type": "markdown",
   "metadata": {},
   "source": [
    "Convolução: \n",
    "\n",
    "    - operação matemática;\n",
    "    - utilizada em técnicas como detecção de bordas, reconhecimento de padrões, segmentação de objetos e etc;\n",
    "    - popular em redes neurais convolucionais (CNNs), que são usadas em tarefas de aprendizado profundo relacionadas a imagens e vídeos;\n",
    "    - basicamente, permite extrair informações significativas das imagens por meio da aplicação de filtros."
   ]
  },
  {
   "cell_type": "markdown",
   "metadata": {},
   "source": [
    "1. Filtro da média (Filtro de suavização):\n",
    "\n",
    "    - usado para suavizar uma imagem, reduzindo o ruído e as variações abruptas de intensidade;\n",
    "    - calcula a média dos valores dos pixels na região coberta pelo filtro e substitui o valor central pelo valor médio;\n",
    "    - eficaz para reduzir o ruído, mas também pode causar perda de detalhes finos na imagem. "
   ]
  },
  {
   "cell_type": "code",
   "execution_count": 1,
   "metadata": {},
   "outputs": [],
   "source": [
    "import cv2\n",
    "import numpy as np\n",
    "\n",
    "imagem = cv2.imread('hamster.jpeg')\n",
    "\n",
    "# especifique o tamanho da janela de convolução (por exemplo, 5x5)\n",
    "janela = (5, 5)\n",
    "\n",
    "# aplique o filtro de média\n",
    "imagem_suavizada = cv2.blur(imagem, janela)\n",
    "\n",
    "cv2.imshow('Imagem Suavizada', imagem_suavizada)\n",
    "cv2.waitKey(0)\n",
    "cv2.destroyAllWindows()"
   ]
  },
  {
   "cell_type": "markdown",
   "metadata": {},
   "source": [
    "2. Filtro Gaussiano (Filtro de suavização):\n",
    "\n",
    "    - utiliza uma função de distribuição gaussiana para ponderar os pixels vizinhos;\n",
    "    - os pixels mais próximos ao centro do filtro têm um peso maior na média;\n",
    "    - eficaz para suavizar a imagem, preservando melhor os detalhes finos em comparação com o filtro da média."
   ]
  },
  {
   "cell_type": "code",
   "execution_count": 1,
   "metadata": {},
   "outputs": [],
   "source": [
    "import cv2\n",
    "import numpy as np\n",
    "\n",
    "imagem = cv2.imread('hamster.jpeg')\n",
    "\n",
    "# especifique o tamanho da janela de convolução e o desvio padrão (sigma)\n",
    "janela = (5, 5)\n",
    "sigma = 0\n",
    "\n",
    "# aplique o filtro Gaussiano\n",
    "imagem_suavizada = cv2.GaussianBlur(imagem, janela, sigma)\n",
    "\n",
    "cv2.imshow('Imagem Suavizada', imagem_suavizada)\n",
    "cv2.waitKey(0)\n",
    "cv2.destroyAllWindows()"
   ]
  },
  {
   "cell_type": "markdown",
   "metadata": {},
   "source": [
    "3. Filtro Laplaciano (Filtro de Realce de Bordas):\n",
    "\n",
    "    - o filtro laplaciano é usado para realçar bordas e características de alta frequência em uma imagem;\n",
    "    - destaca mudanças abruptas de intensidade, que são tipicamente associadas a bordas de objetos na imagem;\n",
    "    - realça as transições de intensidade positivas e negativas, indicando as bordas;\n",
    "    - amplifica o ruído da imagem."
   ]
  },
  {
   "cell_type": "code",
   "execution_count": 1,
   "metadata": {},
   "outputs": [],
   "source": [
    "import cv2\n",
    "import numpy as np\n",
    "\n",
    "# carregue a imagem em tons de cinza\n",
    "imagem = cv2.imread('', cv2.IMREAD_GRAYSCALE)\n",
    "\n",
    "# aplique o filtro Laplaciano\n",
    "imagem_realcada = cv2.Laplacian(imagem, cv2.CV_64F)\n",
    "\n",
    "# converta a imagem de saída para valores inteiros\n",
    "imagem_realcada = np.uint8(np.absolute(imagem_realcada))\n",
    "\n",
    "cv2.imshow('Imagem Realçada', imagem_realcada)\n",
    "cv2.waitKey(0)\n",
    "cv2.destroyAllWindows()"
   ]
  }
 ],
 "metadata": {
  "interpreter": {
   "hash": "916dbcbb3f70747c44a77c7bcd40155683ae19c65e1c03b4aa3499c5328201f1"
  },
  "kernelspec": {
   "display_name": "Python 3.8.10 64-bit",
   "language": "python",
   "name": "python3"
  },
  "language_info": {
   "codemirror_mode": {
    "name": "ipython",
    "version": 3
   },
   "file_extension": ".py",
   "mimetype": "text/x-python",
   "name": "python",
   "nbconvert_exporter": "python",
   "pygments_lexer": "ipython3",
   "version": "3.8.10"
  },
  "orig_nbformat": 4
 },
 "nbformat": 4,
 "nbformat_minor": 2
}
