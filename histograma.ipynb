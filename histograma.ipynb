{
 "cells": [
  {
   "attachments": {},
   "cell_type": "markdown",
   "metadata": {},
   "source": [
    "Histograma : Um histograma de uma imagem é a interpretação gráfica dos valores de intensidade de pixel da imagem. Pode ser interpretado como a estrutura de dados que armazena as frequências de todos os níveis de intensidade de pixel da imagem.\n",
    "\n",
    "    - O nível de intensidade geralmente varia de 0 a 255. \n",
    "\n",
    "    - Para uma imagem em escala cinza, há apenas um histograma, enquanto uma imagem colorida RGB terá três histogramas 2-D - um para cada cor."
   ]
  },
  {
   "attachments": {},
   "cell_type": "markdown",
   "metadata": {},
   "source": [
    "Equalização de histograma: Técnica de processamento de imagem que ajusta o contraste de uma imagem usando seu histograma. \n",
    "\n",
    "    - Para melhorar o contraste da imagem, ele distribui os valores de intensidade de pixel mais frequentes ou estende a faixa de intensidade da imagem. AO conseguir isso, a equalização do histograma permite que as áreas da imagem com menor constraste ganhem maior contraste.\n",
    "\n",
    "    - Usada quando há imagens que parecem desbotadas sem contraste suficiente. Quando as áreas claras e escuras se misturam, criando uma imagem mais plana, sem realces e sombras."
   ]
  },
  {
   "cell_type": "code",
   "execution_count": 4,
   "metadata": {},
   "outputs": [],
   "source": [
    "import cv2 as cv\n",
    "import numpy as np\n",
    "from matplotlib import pyplot as plt"
   ]
  },
  {
   "cell_type": "code",
   "execution_count": 5,
   "metadata": {},
   "outputs": [],
   "source": [
    "path = \"flor.webp\"\n",
    "img = cv.imread(path)"
   ]
  },
  {
   "cell_type": "code",
   "execution_count": 6,
   "metadata": {},
   "outputs": [
    {
     "ename": "NameError",
     "evalue": "name 'img' is not defined",
     "output_type": "error",
     "traceback": [
      "\u001b[0;31m---------------------------------------------------------------------------\u001b[0m",
      "\u001b[0;31mNameError\u001b[0m                                 Traceback (most recent call last)",
      "Cell \u001b[0;32mIn[6], line 1\u001b[0m\n\u001b[0;32m----> 1\u001b[0m cv\u001b[39m.\u001b[39mimshow(\u001b[39m'\u001b[39m\u001b[39mimagem\u001b[39m\u001b[39m'\u001b[39m,img)\n\u001b[1;32m      2\u001b[0m cv\u001b[39m.\u001b[39mwaitKey(\u001b[39m0\u001b[39m) \n\u001b[1;32m      3\u001b[0m cv\u001b[39m.\u001b[39mdestroyAllWindows()\n",
      "\u001b[0;31mNameError\u001b[0m: name 'img' is not defined"
     ]
    }
   ],
   "source": [
    "cv.imshow('imagem',img)\n",
    "cv.waitKey(0) \n",
    "cv.destroyAllWindows()"
   ]
  },
  {
   "cell_type": "code",
   "execution_count": 5,
   "metadata": {},
   "outputs": [
    {
     "ename": "NameError",
     "evalue": "name 'img' is not defined",
     "output_type": "error",
     "traceback": [
      "\u001b[0;31m---------------------------------------------------------------------------\u001b[0m",
      "\u001b[0;31mNameError\u001b[0m                                 Traceback (most recent call last)",
      "Cell \u001b[0;32mIn[5], line 1\u001b[0m\n\u001b[0;32m----> 1\u001b[0m hist,bins \u001b[39m=\u001b[39m np\u001b[39m.\u001b[39mhistogram(img\u001b[39m.\u001b[39mflatten(),\u001b[39m256\u001b[39m,[\u001b[39m0\u001b[39m,\u001b[39m256\u001b[39m]) \n\u001b[1;32m      2\u001b[0m \u001b[39m# cdf = hist.cumsum() \u001b[39;00m\n\u001b[1;32m      3\u001b[0m \u001b[39m# cdf_normalized = cdf * float(hist.max()) / cdf.max() \u001b[39;00m\n\u001b[1;32m      4\u001b[0m \u001b[39m# plt.plot(cdf_normalized , cor = 'b') \u001b[39;00m\n\u001b[0;32m   (...)\u001b[0m\n\u001b[1;32m      7\u001b[0m \u001b[39m# plt.legend(('cdf','histograma') , loc = 'superior esquerdo') \u001b[39;00m\n\u001b[1;32m      8\u001b[0m \u001b[39m# plt.show()\u001b[39;00m\n",
      "\u001b[0;31mNameError\u001b[0m: name 'img' is not defined"
     ]
    }
   ],
   "source": [
    "hist,bins = np.histogram(img.flatten(),256,[0,256]) \n",
    "# cdf = hist.cumsum() \n",
    "# cdf_normalized = cdf * float(hist.max()) / cdf.max() \n",
    "# plt.plot(cdf_normalized , cor = 'b') \n",
    "# plt.hist(img.flatten(),256,[0,256], cor = 'r') \n",
    "# plt.xlim([0,256]) \n",
    "# plt.legend(('cdf','histograma') , loc = 'superior esquerdo') \n",
    "# plt.show()"
   ]
  }
 ],
 "metadata": {
  "kernelspec": {
   "display_name": "Python 3",
   "language": "python",
   "name": "python3"
  },
  "language_info": {
   "codemirror_mode": {
    "name": "ipython",
    "version": 3
   },
   "file_extension": ".py",
   "mimetype": "text/x-python",
   "name": "python",
   "nbconvert_exporter": "python",
   "pygments_lexer": "ipython3",
   "version": "3.10.12"
  },
  "orig_nbformat": 4
 },
 "nbformat": 4,
 "nbformat_minor": 2
}
